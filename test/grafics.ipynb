{
 "cells": [
  {
   "cell_type": "code",
   "execution_count": null,
   "metadata": {},
   "outputs": [
    {
     "ename": "AttributeError",
     "evalue": "'set' object has no attribute 'sort'",
     "output_type": "error",
     "traceback": [
      "\u001b[0;31m---------------------------------------------------------------------------\u001b[0m",
      "\u001b[0;31mAttributeError\u001b[0m                            Traceback (most recent call last)",
      "Cell \u001b[0;32mIn[2], line 28\u001b[0m\n\u001b[1;32m     26\u001b[0m \u001b[38;5;28;01mfor\u001b[39;00m d \u001b[38;5;129;01min\u001b[39;00m data:\n\u001b[1;32m     27\u001b[0m     policies\u001b[38;5;241m.\u001b[39madd(d[\u001b[38;5;124m\"\u001b[39m\u001b[38;5;124mpolicies_names\u001b[39m\u001b[38;5;124m\"\u001b[39m][\u001b[38;5;241m0\u001b[39m])\n\u001b[0;32m---> 28\u001b[0m \u001b[43mpolicies\u001b[49m\u001b[38;5;241;43m.\u001b[39;49m\u001b[43msort\u001b[49m()\n\u001b[1;32m     29\u001b[0m policies \u001b[38;5;241m=\u001b[39m \u001b[38;5;28mlist\u001b[39m(policies)\n\u001b[1;32m     30\u001b[0m index_policy \u001b[38;5;241m=\u001b[39m {k: i \u001b[38;5;28;01mfor\u001b[39;00m i, k \u001b[38;5;129;01min\u001b[39;00m \u001b[38;5;28menumerate\u001b[39m(policies)}\n",
      "\u001b[0;31mAttributeError\u001b[0m: 'set' object has no attribute 'sort'"
     ]
    }
   ],
   "source": [
    "# read \n",
    "\n",
    "directory = \"data/parallel/20_30\"\n",
    "\n",
    "# open all json files and parse them\n",
    "import json\n",
    "import os\n",
    "\n",
    "data = []\n",
    "for filename in os.listdir(directory):\n",
    "    if filename.endswith(\".json\"):\n",
    "        with open(os.path.join(directory, filename)) as f:\n",
    "            data.append(json.load(f))\n",
    "\n",
    "# map all data in the grid\n",
    "# they all the combination of policies versus a different policy\n",
    "# I want to map them in a grid showing the win rate\n",
    "\n",
    "import numpy as np\n",
    "import matplotlib\n",
    "import matplotlib.pyplot as plt\n",
    "from matplotlib.colors import LinearSegmentedColormap\n",
    "\n",
    "# get all the policies\n",
    "policies = set()\n",
    "for d in data:\n",
    "    policies.add(d[\"policies_names\"][0])\n",
    "policies = list(policies)\n",
    "policies.sort()\n",
    "index_policy = {k: i for i, k in enumerate(policies)}\n",
    "# create the grid\n",
    "grid = np.zeros((len(policies), len(policies)))\n",
    "\n",
    "for d in data:\n",
    "    x, y = index_policy[d[\"policies_names\"][0]], index_policy[d[\"policies_names\"][1]]\n",
    "    # calculate the win rate\n",
    "    wins = 0\n",
    "    for battle in d[\"battles\"]:\n",
    "        if battle[\"result\"] == 0:\n",
    "            wins += 1\n",
    "    grid[x, y] = wins / len(d[\"battles\"])\n",
    "    grid[y, x] = 1 - grid[x, y]\n",
    "\n",
    "# Define the custom colormap\n",
    "colors = ['#b10407', '#ffff00', '#058618']  # R -> Y -> G\n",
    "n_bins = 100  # Discretize the interpolation into bins\n",
    "cmap_name = 'r_y_g'\n",
    "cm = LinearSegmentedColormap.from_list(cmap_name, colors, N=n_bins)\n",
    "n = len(policies)\n",
    "fig, ax = plt.subplots()\n",
    "cax = ax.matshow(grid, cmap=cm)\n",
    "for i in range(n):\n",
    "    for j in range(n):\n",
    "        ax.text(j, i, f\"{grid[i][j]:.2f}\", ha='center', va='center', color='black')\n",
    "plt.xticks(range(n), policies, rotation=45, ha='left')\n",
    "plt.yticks(range(n), policies)\n",
    "\n"
   ]
  }
 ],
 "metadata": {
  "kernelspec": {
   "display_name": "Python 3",
   "language": "python",
   "name": "python3"
  },
  "language_info": {
   "codemirror_mode": {
    "name": "ipython",
    "version": 3
   },
   "file_extension": ".py",
   "mimetype": "text/x-python",
   "name": "python",
   "nbconvert_exporter": "python",
   "pygments_lexer": "ipython3",
   "version": "3.12.7"
  }
 },
 "nbformat": 4,
 "nbformat_minor": 2
}
