{
 "cells": [
  {
   "cell_type": "code",
   "execution_count": 1,
   "metadata": {},
   "outputs": [],
   "source": [
    "\n",
    "import sys, os\n",
    "# add relative parent directory to path\n",
    "sys.path.append(os.path.dirname(os.getcwd()))\n",
    "\n",
    "from vgc.behaviour.BattlePolicies import *\n",
    "import utils.scraping_data as scraping_data\n",
    "from policies.PrunedTreeSearch import PrunedTreeSearch\n",
    "from policies.Heruristical import Heuristical"
   ]
  },
  {
   "cell_type": "code",
   "execution_count": 2,
   "metadata": {},
   "outputs": [],
   "source": [
    "\n",
    "n_battles_per_file = 100\n",
    "\n",
    "policies = [RandomPlayer(), OneTurnLookahead(), TypeSelector(), BreadthFirstSearch(),\n",
    "             PrunedBFS(), TunedTreeTraversal(), PrunedTreeSearch(), Heuristical()]\n",
    "\n",
    "policies_names = [policy.__class__.__name__ for policy in policies]\n",
    "\n",
    "\n",
    "n = len(policies)\n"
   ]
  },
  {
   "cell_type": "code",
   "execution_count": null,
   "metadata": {},
   "outputs": [
    {
     "name": "stdout",
     "output_type": "stream",
     "text": [
      "1/36: RandomPlayer vs RandomPlayer\n",
      "2/36: OneTurnLookahead vs RandomPlayer\n",
      "3/36: OneTurnLookahead vs OneTurnLookahead\n",
      "4/36: TypeSelector vs RandomPlayer\n",
      "5/36: TypeSelector vs OneTurnLookahead\n",
      "6/36: TypeSelector vs TypeSelector\n",
      "7/36: BreadthFirstSearch vs RandomPlayer\n",
      "8/36: BreadthFirstSearch vs OneTurnLookahead\n",
      "9/36: BreadthFirstSearch vs TypeSelector\n",
      "10/36: BreadthFirstSearch vs BreadthFirstSearch\n",
      "11/36: PrunedBFS vs RandomPlayer\n",
      "12/36: PrunedBFS vs OneTurnLookahead\n",
      "13/36: PrunedBFS vs TypeSelector\n",
      "14/36: PrunedBFS vs BreadthFirstSearch\n",
      "15/36: PrunedBFS vs PrunedBFS\n",
      "16/36: TunedTreeTraversal vs RandomPlayer\n",
      "17/36: TunedTreeTraversal vs OneTurnLookahead\n",
      "18/36: TunedTreeTraversal vs TypeSelector\n",
      "19/36: TunedTreeTraversal vs BreadthFirstSearch\n",
      "20/36: TunedTreeTraversal vs PrunedBFS\n",
      "21/36: TunedTreeTraversal vs TunedTreeTraversal\n",
      "22/36: PrunedTreeSearch vs RandomPlayer\n",
      "Emulating battle 1/100 (total 3/100) between PrunedTreeSearch and RandomPlayer\n",
      "Turn 1 - Player 1 took choice in 12.2114s\n",
      "Turn 1 - Player 2 took choice in 0.0010s\n",
      "Turn 2 - Player 1 took choice in 15.4873s\n",
      "Turn 2 - Player 2 took choice in 0.0000s\n",
      "Turn 3 - Player 1 took choice in 12.6170s\n",
      "Turn 3 - Player 2 took choice in 0.0000s\n"
     ]
    }
   ],
   "source": [
    "for i, player0 in enumerate(policies):\n",
    "    for j, player1 in enumerate(policies):\n",
    "        if i < j: # only play each pair once\n",
    "            continue\n",
    "        print(f\"{(i)*(i+1)/2+j+1:.0f}/{n*(n+1)/2:.0f}: {policies_names[i]} vs {policies_names[j]}\")\n",
    "        scraping_data.run_and_update_battle(player0, player1, n_to_emulate=n_battles_per_file, max_battles=n_battles_per_file, verbose=True)"
   ]
  }
 ],
 "metadata": {
  "kernelspec": {
   "display_name": "oldenv",
   "language": "python",
   "name": "python3"
  },
  "language_info": {
   "codemirror_mode": {
    "name": "ipython",
    "version": 3
   },
   "file_extension": ".py",
   "mimetype": "text/x-python",
   "name": "python",
   "nbconvert_exporter": "python",
   "pygments_lexer": "ipython3",
   "version": "3.11.8"
  }
 },
 "nbformat": 4,
 "nbformat_minor": 2
}
