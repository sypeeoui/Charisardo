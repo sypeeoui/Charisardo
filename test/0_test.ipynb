{
 "cells": [
  {
   "cell_type": "code",
   "execution_count": 1,
   "metadata": {},
   "outputs": [],
   "source": [
    "import numpy as np\n",
    "import matplotlib.pyplot as plt\n",
    "import time\n",
    "from vgc.behaviour.BattlePolicies import *\n",
    "from vgc.datatypes.Objects import PkmTeam\n",
    "# from vgc.engine.PkmBattleEnv import PkmBattleEnv\n",
    "from vgc.balance.meta import StandardMetaData\n",
    "from vgc.behaviour.TeamBuildPolicies import RandomTeamBuilder\n",
    "from vgc.behaviour.TeamSelectionPolicies import RandomTeamSelectionPolicy\n",
    "from vgc.util.generator.PkmRosterGenerators import RandomPkmRosterGenerator\n",
    "from vgc.util.generator.PkmTeamGenerators import RandomTeamGenerator\n",
    "from multiprocessing.connection import Client\n",
    "\n",
    "import sys, os\n",
    "# add relative parent directory to path\n",
    "sys.path.append(os.path.dirname(os.getcwd()))\n",
    "\n",
    "from utils import OwnRandomTeamGenerator, MyPkmEnv\n",
    "from policies.PrunedTreeSearch import PrunedTreeSearch\n",
    "from policies.Heuristical import Heuristical"
   ]
  },
  {
   "cell_type": "code",
   "execution_count": 2,
   "metadata": {},
   "outputs": [
    {
     "data": {
      "text/plain": [
       "(0, 0)"
      ]
     },
     "execution_count": 2,
     "metadata": {},
     "output_type": "execute_result"
    }
   ],
   "source": [
    "gen = OwnRandomTeamGenerator()\n",
    "full_team0 = gen.get_team()\n",
    "full_team1 = gen.get_team()\n",
    "team0 = full_team0.get_battle_team([0, 1, 2])\n",
    "team1 = full_team1.get_battle_team([0, 1, 2])\n",
    "agent0, agent1 = Heuristical(), TypeSelector()\n",
    "\n",
    "env = MyPkmEnv((team0, team1),\n",
    "                   encode=(agent0.requires_encode(), agent1.requires_encode()), debug=True)  # set new environment with teams\n",
    "(agent0.get_action(env), agent1.get_action(env))"
   ]
  },
  {
   "cell_type": "code",
   "execution_count": 18,
   "metadata": {},
   "outputs": [
    {
     "name": "stdout",
     "output_type": "stream",
     "text": [
      "PkmMove(Power=98, Acc=0.6, PP=15, Type=FIGHT)\n",
      "PkmMove(Power=20, Acc=1.0, PP=25, Type=FLYING)\n",
      "PkmMove(Power=1, Acc=1.0, PP=30, Type=FIRE)\n",
      "PkmMove(Power=109, Acc=0.7, PP=10, Type=ICE)\n",
      "\n",
      "PkmMove(Power=80, Acc=1.0, PP=10, Type=ICE)\n",
      "PkmMove(Power=109, Acc=0.5, PP=15, Type=NORMAL)\n",
      "PkmMove(Power=62, Acc=0.9, PP=15, Type=POISON)\n",
      "PkmMove(Power=63, Acc=1.0, PP=15, Type=ICE)\n",
      "\n",
      "Active:\n",
      "Pkm(Type=FIGHT, HP=119, Moves={PkmMove(Power=98, Acc=0.6, PP=15, Type=FIGHT), PkmMove(Power=20, Acc=1.0, PP=25, Type=FLYING), PkmMove(Power=1, Acc=1.0, PP=30, Type=FIRE), PkmMove(Power=109, Acc=0.7, PP=10, Type=ICE), })\n",
      "Party:\n",
      "Pkm(Type=FIGHT, HP=84, Moves={PkmMove(Power=11, Acc=1.0, PP=30, Type=FIGHT), PkmMove(Power=57, Acc=0.9, PP=20, Type=DARK), PkmMove(Power=65, Acc=0.7, PP=20, Type=GROUND), PkmMove(Power=1, Acc=1.0, PP=30, Type=GRASS), })\n",
      "Pkm(Type=POISON, HP=178, Moves={PkmMove(Power=76, Acc=0.7, PP=15, Type=POISON), PkmMove(Power=20, Acc=1.0, PP=25, Type=DRAGON), PkmMove(Power=1, Acc=1.0, PP=30, Type=BUG), PkmMove(Power=23, Acc=1.0, PP=25, Type=ROCK), })\n",
      "\n",
      "Active:\n",
      "Pkm(Type=ICE, HP=134, Moves={PkmMove(Power=80, Acc=1.0, PP=10, Type=ICE), PkmMove(Power=109, Acc=0.5, PP=15, Type=NORMAL), PkmMove(Power=62, Acc=0.9, PP=15, Type=POISON), PkmMove(Power=63, Acc=1.0, PP=15, Type=ICE), })\n",
      "Party:\n",
      "Pkm(Type=GROUND, HP=78, Moves={PkmMove(Power=121, Acc=0.8, PP=5, Type=GROUND), PkmMove(Power=150, Acc=0.8, PP=5, Type=PSYCHIC), PkmMove(Power=92, Acc=0.6, PP=15, Type=GHOST), PkmMove(Power=1, Acc=1.0, PP=30, Type=FAIRY), })\n",
      "Pkm(Type=POISON, HP=50, Moves={PkmMove(Power=101, Acc=0.7, PP=10, Type=POISON), PkmMove(Power=106, Acc=0.9, PP=5, Type=FLYING), PkmMove(Power=211, Acc=0.5, PP=5, Type=ROCK), PkmMove(Power=127, Acc=0.6, PP=10, Type=NORMAL), })\n",
      "\n"
     ]
    }
   ],
   "source": [
    "# team0.active.moves[0].acc = 0\n",
    "# team0.active.moves[1].acc = 0\n",
    "# team0.active.moves[2].acc = 0\n",
    "# team0.active.moves[3].acc = 0\n",
    "\n",
    "for move in team0.active.moves:\n",
    "    print(move.__str__())\n",
    "\n",
    "print()\n",
    "for move in team1.active.moves:\n",
    "    print(move.__str__())\n",
    "print()\n",
    "\n",
    "print(team0.__str__())\n",
    "print(team1.__str__())\n",
    "\n",
    "# team1.active.moves[0].pp = 1"
   ]
  },
  {
   "cell_type": "code",
   "execution_count": 4,
   "metadata": {},
   "outputs": [
    {
     "name": "stdout",
     "output_type": "stream",
     "text": [
      "Pkm(Type=DRAGON, HP=155, Moves={PkmMove(Power=100, Acc=0.5, PP=20, Type=DRAGON), PkmMove(Power=83, Acc=0.6, PP=20, Type=POISON), PkmMove(Power=41, Acc=1.0, PP=20, Type=GHOST), PkmMove(Power=29, Acc=1.0, PP=25, Type=STEEL), })\n"
     ]
    }
   ],
   "source": [
    "print(team0.active)"
   ]
  },
  {
   "cell_type": "code",
   "execution_count": 19,
   "metadata": {},
   "outputs": [
    {
     "name": "stdout",
     "output_type": "stream",
     "text": [
      "\n"
     ]
    },
    {
     "ename": "AttributeError",
     "evalue": "'Heuristical' object has no attribute 'game_state_eval'",
     "output_type": "error",
     "traceback": [
      "\u001b[0;31m---------------------------------------------------------------------------\u001b[0m",
      "\u001b[0;31mAttributeError\u001b[0m                            Traceback (most recent call last)",
      "Cell \u001b[0;32mIn[19], line 4\u001b[0m\n\u001b[1;32m      1\u001b[0m \u001b[38;5;66;03m# # print(agent0.game_state_eval(env))\u001b[39;00m\n\u001b[1;32m      2\u001b[0m \u001b[38;5;66;03m# s, _, _, _, _ = env.step([1, 3])\u001b[39;00m\n\u001b[1;32m      3\u001b[0m \u001b[38;5;28mprint\u001b[39m(env\u001b[38;5;241m.\u001b[39mlog)\n\u001b[0;32m----> 4\u001b[0m \u001b[38;5;28mprint\u001b[39m(\u001b[43magent0\u001b[49m\u001b[38;5;241;43m.\u001b[39;49m\u001b[43mgame_state_eval\u001b[49m(env))\n",
      "\u001b[0;31mAttributeError\u001b[0m: 'Heuristical' object has no attribute 'game_state_eval'"
     ]
    }
   ],
   "source": [
    "# # print(agent0.game_state_eval(env))\n",
    "# s, _, _, _, _ = env.step([1, 3])\n",
    "print(env.log)\n",
    "print(agent0.game_state_eval(env))"
   ]
  },
  {
   "cell_type": "code",
   "execution_count": 6,
   "metadata": {},
   "outputs": [
    {
     "data": {
      "text/plain": [
       "((<vgc.engine.PkmBattleEnv.PkmBattleEnv at 0x7a0290fefc20>,\n",
       "  <vgc.engine.PkmBattleEnv.PkmBattleEnv at 0x7a0290d83bf0>),\n",
       " {})"
      ]
     },
     "execution_count": 6,
     "metadata": {},
     "output_type": "execute_result"
    }
   ],
   "source": [
    "env.reset()"
   ]
  },
  {
   "cell_type": "code",
   "execution_count": 7,
   "metadata": {},
   "outputs": [
    {
     "name": "stdout",
     "output_type": "stream",
     "text": [
      "[4, 4, 5, 2, 0, 0]\n"
     ]
    }
   ],
   "source": [
    "from multiprocessing import Pool\n",
    "\n",
    "def get_action_wrapper(_):\n",
    "    return agent0.get_action(env, depth=4)\n",
    "\n",
    "moves = [0, 0, 0, 0, 0, 0]\n",
    "with Pool() as pool:\n",
    "    results = pool.map(get_action_wrapper, range(15), chunksize=1)\n",
    "\n",
    "# print(agent0.get_action(env, depth=4))\n",
    "\n",
    "for result in results:\n",
    "    moves[result] += 1\n",
    "\n",
    "print(moves)"
   ]
  },
  {
   "cell_type": "code",
   "execution_count": 8,
   "metadata": {},
   "outputs": [
    {
     "data": {
      "text/plain": [
       "1"
      ]
     },
     "execution_count": 8,
     "metadata": {},
     "output_type": "execute_result"
    }
   ],
   "source": [
    "get_action_wrapper(0)"
   ]
  },
  {
   "cell_type": "code",
   "execution_count": 9,
   "metadata": {},
   "outputs": [
    {
     "name": "stdout",
     "output_type": "stream",
     "text": [
      "Metodo del figlio\n"
     ]
    }
   ],
   "source": [
    "class Padre:\n",
    "    def _a(self):\n",
    "        return \"Metodo del padre\"\n",
    "\n",
    "    def usa_a(self):\n",
    "        return self._a()\n",
    "\n",
    "class Figlio(Padre):\n",
    "    def _a(self):\n",
    "        return \"Metodo del figlio\"\n",
    "\n",
    "# Test\n",
    "figlio = Figlio()\n",
    "print(figlio.usa_a())  # Output: \"Metodo del figlio\"\n"
   ]
  },
  {
   "cell_type": "code",
   "execution_count": 10,
   "metadata": {},
   "outputs": [
    {
     "data": {
      "text/plain": [
       "((<vgc.engine.PkmBattleEnv.PkmBattleEnv at 0x7a02cf7343b0>,\n",
       "  <vgc.engine.PkmBattleEnv.PkmBattleEnv at 0x7a02456ccaa0>),\n",
       " {})"
      ]
     },
     "execution_count": 10,
     "metadata": {},
     "output_type": "execute_result"
    }
   ],
   "source": [
    "env.reset()"
   ]
  },
  {
   "cell_type": "code",
   "execution_count": 11,
   "metadata": {},
   "outputs": [
    {
     "name": "stdout",
     "output_type": "stream",
     "text": [
      "0.46750242300345857\n",
      "0.5754676447055239\n",
      "1\n",
      "1\n",
      "1.0\n",
      "0.46750242300345857\n",
      "1.0\n",
      "0.5754676447055239\n",
      "1.0\n",
      "1.0\n",
      "1.0\n",
      "1.0\n"
     ]
    }
   ],
   "source": [
    "g = env\n",
    "for m in g.teams[0].active.moves:\n",
    "    print(m.acc)\n",
    "    m.real_acc = float(m.acc)\n",
    "    m.acc = 1.0\n",
    "for m in g.teams[0].active.moves:\n",
    "    print(m.acc)\n",
    "    print(m.real_acc)"
   ]
  },
  {
   "cell_type": "code",
   "execution_count": null,
   "metadata": {},
   "outputs": [],
   "source": []
  }
 ],
 "metadata": {
  "kernelspec": {
   "display_name": "charisardo",
   "language": "python",
   "name": "charisardo"
  },
  "language_info": {
   "codemirror_mode": {
    "name": "ipython",
    "version": 3
   },
   "file_extension": ".py",
   "mimetype": "text/x-python",
   "name": "python",
   "nbconvert_exporter": "python",
   "pygments_lexer": "ipython3",
   "version": "3.13.1"
  }
 },
 "nbformat": 4,
 "nbformat_minor": 4
}
