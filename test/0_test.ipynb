{
 "cells": [
  {
   "cell_type": "code",
   "execution_count": 1,
   "metadata": {},
   "outputs": [],
   "source": [
    "import numpy as np\n",
    "import matplotlib.pyplot as plt\n",
    "import time\n",
    "from vgc.behaviour.BattlePolicies import *\n",
    "from vgc.datatypes.Objects import PkmTeam\n",
    "from vgc.engine.PkmBattleEnv import PkmBattleEnv\n",
    "from vgc.balance.meta import StandardMetaData\n",
    "from vgc.behaviour.TeamBuildPolicies import RandomTeamBuilder\n",
    "from vgc.behaviour.TeamSelectionPolicies import RandomTeamSelectionPolicy\n",
    "from vgc.util.generator.PkmRosterGenerators import RandomPkmRosterGenerator\n",
    "from vgc.util.generator.PkmTeamGenerators import RandomTeamGenerator\n",
    "from multiprocessing.connection import Client\n",
    "\n",
    "import sys, os\n",
    "# add relative parent directory to path\n",
    "sys.path.append(os.path.dirname(os.getcwd()))\n",
    "\n",
    "from utils import OwnRandomTeamGenerator\n",
    "from policies.PrunedTreeSearch import PrunedTreeSearch\n"
   ]
  },
  {
   "cell_type": "code",
   "execution_count": 2,
   "metadata": {},
   "outputs": [],
   "source": [
    "gen = OwnRandomTeamGenerator()\n",
    "full_team0 = gen.get_team()\n",
    "full_team1 = gen.get_team()\n",
    "team0 = full_team0.get_battle_team([0, 1, 2])\n",
    "team1 = full_team1.get_battle_team([0, 1, 2])\n",
    "agent0, agent1 = PrunedTreeSearch(), TypeSelector()\n",
    "\n",
    "env = PkmBattleEnv((team0, team1),\n",
    "                   encode=(agent0.requires_encode(), agent1.requires_encode()), debug=True)  # set new environment with teams\n"
   ]
  },
  {
   "cell_type": "code",
   "execution_count": null,
   "metadata": {},
   "outputs": [
    {
     "name": "stdout",
     "output_type": "stream",
     "text": [
      "PkmMove(Power=117, Acc=0.0, PP=15, Type=BUG)\n",
      "PkmMove(Power=71, Acc=0.0, PP=15, Type=ROCK)\n",
      "PkmMove(Power=79, Acc=0.0, PP=15, Type=NORMAL)\n",
      "PkmMove(Power=73, Acc=0.0, PP=20, Type=ELECTRIC)\n",
      "\n",
      "PkmMove(Power=210, Acc=0.5, PP=5, Type=GRASS)\n",
      "PkmMove(Power=150, Acc=0.4, PP=15, Type=BUG)\n",
      "PkmMove(Power=81, Acc=0.8, PP=15, Type=BUG)\n",
      "PkmMove(Power=176, Acc=0.8, PP=3, Type=GROUND)\n",
      "\n",
      "Active:\n",
      "Pkm(Type=BUG, HP=170, Moves={PkmMove(Power=117, Acc=0.0, PP=15, Type=BUG), PkmMove(Power=71, Acc=0.0, PP=15, Type=ROCK), PkmMove(Power=79, Acc=0.0, PP=15, Type=NORMAL), PkmMove(Power=73, Acc=0.0, PP=20, Type=ELECTRIC), })\n",
      "Party:\n",
      "Pkm(Type=DARK, HP=154, Moves={PkmMove(Power=53, Acc=0.9, PP=20, Type=DARK), PkmMove(Power=95, Acc=0.6, PP=15, Type=DARK), PkmMove(Power=132, Acc=0.7, PP=5, Type=GHOST), PkmMove(Power=215, Acc=0.7, PP=3, Type=GHOST), })\n",
      "Pkm(Type=GROUND, HP=89, Moves={PkmMove(Power=191, Acc=0.4, PP=10, Type=GROUND), PkmMove(Power=110, Acc=0.7, PP=10, Type=ROCK), PkmMove(Power=90, Acc=0.2, PP=25, Type=ICE), PkmMove(Power=235, Acc=0.6, PP=3, Type=POISON), })\n",
      "\n",
      "Active:\n",
      "Pkm(Type=GRASS, HP=81, Moves={PkmMove(Power=210, Acc=0.5, PP=5, Type=GRASS), PkmMove(Power=150, Acc=0.4, PP=15, Type=BUG), PkmMove(Power=81, Acc=0.8, PP=15, Type=BUG), PkmMove(Power=176, Acc=0.8, PP=3, Type=GROUND), })\n",
      "Party:\n",
      "Pkm(Type=DARK, HP=96, Moves={PkmMove(Power=79, Acc=0.6, PP=20, Type=DARK), PkmMove(Power=106, Acc=0.6, PP=15, Type=FLYING), PkmMove(Power=213, Acc=0.5, PP=5, Type=DRAGON), PkmMove(Power=147, Acc=0.5, PP=10, Type=FIGHT), })\n",
      "Pkm(Type=STEEL, HP=136, Moves={PkmMove(Power=146, Acc=0.5, PP=10, Type=STEEL), PkmMove(Power=154, Acc=0.3, PP=20, Type=STEEL), PkmMove(Power=50, Acc=0.7, PP=20, Type=GRASS), PkmMove(Power=60, Acc=0.8, PP=20, Type=POISON), })\n",
      "\n"
     ]
    }
   ],
   "source": [
    "team0.active.moves[0].acc = 0\n",
    "# team0.active.moves[1].acc = 0\n",
    "team0.active.moves[2].acc = 0\n",
    "team0.active.moves[3].acc = 0\n",
    "\n",
    "for move in team0.active.moves:\n",
    "    print(move.__str__())\n",
    "\n",
    "print()\n",
    "for move in team1.active.moves:\n",
    "    print(move.__str__())\n",
    "print()\n",
    "\n",
    "print(team0.__str__())\n",
    "print(team1.__str__())\n",
    "\n",
    "# team1.active.moves[0].pp = 1"
   ]
  },
  {
   "cell_type": "code",
   "execution_count": 4,
   "metadata": {},
   "outputs": [
    {
     "name": "stdout",
     "output_type": "stream",
     "text": [
      "Pkm(Type=BUG, HP=170, Moves={PkmMove(Power=117, Acc=0.0, PP=15, Type=BUG), PkmMove(Power=71, Acc=0.0, PP=15, Type=ROCK), PkmMove(Power=79, Acc=0.0, PP=15, Type=NORMAL), PkmMove(Power=73, Acc=0.0, PP=20, Type=ELECTRIC), })\n"
     ]
    }
   ],
   "source": [
    "print(team0.active)"
   ]
  },
  {
   "cell_type": "code",
   "execution_count": 5,
   "metadata": {},
   "outputs": [
    {
     "name": "stdout",
     "output_type": "stream",
     "text": [
      "\n",
      "0.0\n"
     ]
    }
   ],
   "source": [
    "# # print(agent0.game_state_eval(env))\n",
    "# s, _, _, _, _ = env.step([2, 2])\n",
    "print(env.log)\n",
    "print(agent0.game_state_eval(env))"
   ]
  },
  {
   "cell_type": "code",
   "execution_count": 6,
   "metadata": {},
   "outputs": [
    {
     "data": {
      "text/plain": [
       "((<vgc.engine.PkmBattleEnv.PkmBattleEnv at 0x7afc3dbafa60>,\n",
       "  <vgc.engine.PkmBattleEnv.PkmBattleEnv at 0x7afc3dbaed70>),\n",
       " {})"
      ]
     },
     "execution_count": 6,
     "metadata": {},
     "output_type": "execute_result"
    }
   ],
   "source": [
    "env.reset()"
   ]
  },
  {
   "cell_type": "code",
   "execution_count": null,
   "metadata": {},
   "outputs": [
    {
     "name": "stdout",
     "output_type": "stream",
     "text": [
      "[1, 0, 0, 0, 0, 0]\n",
      "[2, 0, 0, 0, 0, 0]\n",
      "[2, 0, 0, 1, 0, 0]\n",
      "[2, 0, 1, 1, 0, 0]\n",
      "[3, 0, 1, 1, 0, 0]\n",
      "[3, 0, 1, 2, 0, 0]\n",
      "[4, 0, 1, 2, 0, 0]\n"
     ]
    }
   ],
   "source": [
    "moves = [0, 0, 0, 0, 0, 0]\n",
    "for i in range(100):\n",
    "    moves[agent0.get_action(env, depth = 4)] += 1\n",
    "    print(moves)"
   ]
  },
  {
   "cell_type": "code",
   "execution_count": null,
   "metadata": {},
   "outputs": [
    {
     "ename": "NameError",
     "evalue": "name 's' is not defined",
     "output_type": "error",
     "traceback": [
      "\u001b[0;31m---------------------------------------------------------------------------\u001b[0m",
      "\u001b[0;31mNameError\u001b[0m                                 Traceback (most recent call last)",
      "Cell \u001b[0;32mIn[8], line 1\u001b[0m\n\u001b[0;32m----> 1\u001b[0m \u001b[38;5;28mprint\u001b[39m(\u001b[43ms\u001b[49m[\u001b[38;5;241m0\u001b[39m]\u001b[38;5;241m.\u001b[39mwinner, env\u001b[38;5;241m.\u001b[39mwinner, s[\u001b[38;5;241m1\u001b[39m]\u001b[38;5;241m.\u001b[39mwinner)\n",
      "\u001b[0;31mNameError\u001b[0m: name 's' is not defined"
     ]
    }
   ],
   "source": [
    "print(s[0].winner, env.winner, s[1].winner)"
   ]
  },
  {
   "cell_type": "code",
   "execution_count": null,
   "metadata": {},
   "outputs": [
    {
     "data": {
      "text/plain": [
       "((<vgc.engine.PkmBattleEnv.PkmBattleEnv at 0x7357c5275b20>,\n",
       "  <vgc.engine.PkmBattleEnv.PkmBattleEnv at 0x7357a5b70290>),\n",
       " {})"
      ]
     },
     "execution_count": 258,
     "metadata": {},
     "output_type": "execute_result"
    }
   ],
   "source": [
    "env.reset()"
   ]
  },
  {
   "cell_type": "code",
   "execution_count": null,
   "metadata": {},
   "outputs": [
    {
     "name": "stdout",
     "output_type": "stream",
     "text": [
      "0\n",
      "1\n",
      "1\n",
      "1\n",
      "1.0\n",
      "0.0\n",
      "1.0\n",
      "1.0\n",
      "1.0\n",
      "1.0\n",
      "1.0\n",
      "1.0\n"
     ]
    }
   ],
   "source": [
    "g = env\n",
    "for m in g.teams[0].active.moves:\n",
    "    print(m.acc)\n",
    "    m.real_acc = float(m.acc)\n",
    "    m.acc = 1.0\n",
    "for m in g.teams[0].active.moves:\n",
    "    print(m.acc)\n",
    "    print(m.real_acc)"
   ]
  },
  {
   "cell_type": "code",
   "execution_count": null,
   "metadata": {},
   "outputs": [],
   "source": []
  }
 ],
 "metadata": {
  "kernelspec": {
   "display_name": "Python 3",
   "language": "python",
   "name": "python3"
  },
  "language_info": {
   "codemirror_mode": {
    "name": "ipython",
    "version": 3
   },
   "file_extension": ".py",
   "mimetype": "text/x-python",
   "name": "python",
   "nbconvert_exporter": "python",
   "pygments_lexer": "ipython3",
   "version": "3.10.12"
  }
 },
 "nbformat": 4,
 "nbformat_minor": 2
}
