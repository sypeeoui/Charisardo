{
 "cells": [
  {
   "cell_type": "code",
   "execution_count": 1,
   "metadata": {},
   "outputs": [],
   "source": [
    "import numpy as np\n",
    "import matplotlib.pyplot as plt\n",
    "import time\n",
    "from vgc.behaviour.BattlePolicies import *\n",
    "from vgc.datatypes.Objects import PkmTeam\n",
    "# from vgc.engine.PkmBattleEnv import PkmBattleEnv\n",
    "from vgc.balance.meta import StandardMetaData\n",
    "from vgc.behaviour.TeamBuildPolicies import RandomTeamBuilder\n",
    "from vgc.behaviour.TeamSelectionPolicies import RandomTeamSelectionPolicy\n",
    "from vgc.util.generator.PkmRosterGenerators import RandomPkmRosterGenerator\n",
    "from vgc.util.generator.PkmTeamGenerators import RandomTeamGenerator\n",
    "from multiprocessing.connection import Client\n",
    "\n",
    "import sys, os\n",
    "# add relative parent directory to path\n",
    "sys.path.append(os.path.dirname(os.getcwd()))\n",
    "\n",
    "from utils import OwnRandomTeamGenerator, MyPkmEnv\n",
    "from policies.PrunedTreeSearch import PrunedTreeSearch\n"
   ]
  },
  {
   "cell_type": "code",
   "execution_count": 2,
   "metadata": {},
   "outputs": [],
   "source": [
    "gen = OwnRandomTeamGenerator()\n",
    "full_team0 = gen.get_team()\n",
    "full_team1 = gen.get_team()\n",
    "team0 = full_team0.get_battle_team([0, 1, 2])\n",
    "team1 = full_team1.get_battle_team([0, 1, 2])\n",
    "agent0, agent1 = PrunedTreeSearch(), TypeSelector()\n",
    "\n",
    "env = MyPkmEnv((team0, team1),\n",
    "                   encode=(agent0.requires_encode(), agent1.requires_encode()), debug=True)  # set new environment with teams\n"
   ]
  },
  {
   "cell_type": "code",
   "execution_count": 3,
   "metadata": {},
   "outputs": [
    {
     "name": "stdout",
     "output_type": "stream",
     "text": [
      "PkmMove(Power=100, Acc=0.5, PP=20, Type=DRAGON)\n",
      "PkmMove(Power=83, Acc=0.6, PP=20, Type=POISON)\n",
      "PkmMove(Power=41, Acc=1.0, PP=20, Type=GHOST)\n",
      "PkmMove(Power=29, Acc=1.0, PP=25, Type=STEEL)\n",
      "\n",
      "PkmMove(Power=89, Acc=0.6, PP=20, Type=DRAGON)\n",
      "PkmMove(Power=169, Acc=0.7, PP=5, Type=BUG)\n",
      "PkmMove(Power=118, Acc=0.4, PP=20, Type=ELECTRIC)\n",
      "PkmMove(Power=108, Acc=0.7, PP=10, Type=PSYCHIC)\n",
      "\n",
      "Active:\n",
      "Pkm(Type=DRAGON, HP=155, Moves={PkmMove(Power=100, Acc=0.5, PP=20, Type=DRAGON), PkmMove(Power=83, Acc=0.6, PP=20, Type=POISON), PkmMove(Power=41, Acc=1.0, PP=20, Type=GHOST), PkmMove(Power=29, Acc=1.0, PP=25, Type=STEEL), })\n",
      "Party:\n",
      "Pkm(Type=FIRE, HP=162, Moves={PkmMove(Power=102, Acc=0.7, PP=10, Type=FIRE), PkmMove(Power=70, Acc=0.6, PP=20, Type=ICE), PkmMove(Power=18, Acc=1.0, PP=30, Type=FIGHT), PkmMove(Power=129, Acc=0.4, PP=20, Type=DARK), })\n",
      "Pkm(Type=WATER, HP=132, Moves={PkmMove(Power=62, Acc=1.0, PP=15, Type=WATER), PkmMove(Power=96, Acc=0.8, PP=10, Type=DRAGON), PkmMove(Power=123, Acc=0.5, PP=15, Type=GRASS), PkmMove(Power=198, Acc=0.7, PP=3, Type=GHOST), })\n",
      "\n",
      "Active:\n",
      "Pkm(Type=DRAGON, HP=99, Moves={PkmMove(Power=89, Acc=0.6, PP=20, Type=DRAGON), PkmMove(Power=169, Acc=0.7, PP=5, Type=BUG), PkmMove(Power=118, Acc=0.4, PP=20, Type=ELECTRIC), PkmMove(Power=108, Acc=0.7, PP=10, Type=PSYCHIC), })\n",
      "Party:\n",
      "Pkm(Type=FLYING, HP=210, Moves={PkmMove(Power=96, Acc=0.6, PP=15, Type=FLYING), PkmMove(Power=70, Acc=0.6, PP=20, Type=GROUND), PkmMove(Power=186, Acc=0.7, PP=3, Type=FIGHT), PkmMove(Power=122, Acc=0.3, PP=20, Type=FIGHT), })\n",
      "Pkm(Type=FIRE, HP=182, Moves={PkmMove(Power=130, Acc=0.8, PP=5, Type=FIRE), PkmMove(Power=148, Acc=0.7, PP=5, Type=POISON), PkmMove(Power=127, Acc=1.0, PP=5, Type=FIGHT), PkmMove(Power=87, Acc=0.5, PP=20, Type=GHOST), })\n",
      "\n"
     ]
    }
   ],
   "source": [
    "# team0.active.moves[0].acc = 0\n",
    "# team0.active.moves[1].acc = 0\n",
    "# team0.active.moves[2].acc = 0\n",
    "# team0.active.moves[3].acc = 0\n",
    "\n",
    "for move in team0.active.moves:\n",
    "    print(move.__str__())\n",
    "\n",
    "print()\n",
    "for move in team1.active.moves:\n",
    "    print(move.__str__())\n",
    "print()\n",
    "\n",
    "print(team0.__str__())\n",
    "print(team1.__str__())\n",
    "\n",
    "# team1.active.moves[0].pp = 1"
   ]
  },
  {
   "cell_type": "code",
   "execution_count": 4,
   "metadata": {},
   "outputs": [
    {
     "name": "stdout",
     "output_type": "stream",
     "text": [
      "Pkm(Type=DRAGON, HP=155, Moves={PkmMove(Power=100, Acc=0.5, PP=20, Type=DRAGON), PkmMove(Power=83, Acc=0.6, PP=20, Type=POISON), PkmMove(Power=41, Acc=1.0, PP=20, Type=GHOST), PkmMove(Power=29, Acc=1.0, PP=25, Type=STEEL), })\n"
     ]
    }
   ],
   "source": [
    "print(team0.active)"
   ]
  },
  {
   "cell_type": "code",
   "execution_count": 5,
   "metadata": {},
   "outputs": [
    {
     "name": "stdout",
     "output_type": "stream",
     "text": [
      "\n",
      "0.0\n"
     ]
    }
   ],
   "source": [
    "# # print(agent0.game_state_eval(env))\n",
    "# s, _, _, _, _ = env.step([1, 3])\n",
    "print(env.log)\n",
    "print(agent0.game_state_eval(env))"
   ]
  },
  {
   "cell_type": "code",
   "execution_count": 6,
   "metadata": {},
   "outputs": [
    {
     "data": {
      "text/plain": [
       "((<vgc.engine.PkmBattleEnv.PkmBattleEnv at 0x7a0290fefc20>,\n",
       "  <vgc.engine.PkmBattleEnv.PkmBattleEnv at 0x7a0290d83bf0>),\n",
       " {})"
      ]
     },
     "execution_count": 6,
     "metadata": {},
     "output_type": "execute_result"
    }
   ],
   "source": [
    "env.reset()"
   ]
  },
  {
   "cell_type": "code",
   "execution_count": 7,
   "metadata": {},
   "outputs": [
    {
     "name": "stdout",
     "output_type": "stream",
     "text": [
      "[4, 4, 5, 2, 0, 0]\n"
     ]
    }
   ],
   "source": [
    "from multiprocessing import Pool\n",
    "\n",
    "def get_action_wrapper(_):\n",
    "    return agent0.get_action(env, depth=4)\n",
    "\n",
    "moves = [0, 0, 0, 0, 0, 0]\n",
    "with Pool() as pool:\n",
    "    results = pool.map(get_action_wrapper, range(15), chunksize=1)\n",
    "\n",
    "# print(agent0.get_action(env, depth=4))\n",
    "\n",
    "for result in results:\n",
    "    moves[result] += 1\n",
    "\n",
    "print(moves)"
   ]
  },
  {
   "cell_type": "code",
   "execution_count": 8,
   "metadata": {},
   "outputs": [
    {
     "data": {
      "text/plain": [
       "1"
      ]
     },
     "execution_count": 8,
     "metadata": {},
     "output_type": "execute_result"
    }
   ],
   "source": [
    "get_action_wrapper(0)"
   ]
  },
  {
   "cell_type": "code",
   "execution_count": 9,
   "metadata": {},
   "outputs": [
    {
     "name": "stdout",
     "output_type": "stream",
     "text": [
      "Metodo del figlio\n"
     ]
    }
   ],
   "source": [
    "class Padre:\n",
    "    def _a(self):\n",
    "        return \"Metodo del padre\"\n",
    "\n",
    "    def usa_a(self):\n",
    "        return self._a()\n",
    "\n",
    "class Figlio(Padre):\n",
    "    def _a(self):\n",
    "        return \"Metodo del figlio\"\n",
    "\n",
    "# Test\n",
    "figlio = Figlio()\n",
    "print(figlio.usa_a())  # Output: \"Metodo del figlio\"\n"
   ]
  },
  {
   "cell_type": "code",
   "execution_count": 10,
   "metadata": {},
   "outputs": [
    {
     "data": {
      "text/plain": [
       "((<vgc.engine.PkmBattleEnv.PkmBattleEnv at 0x7a02cf7343b0>,\n",
       "  <vgc.engine.PkmBattleEnv.PkmBattleEnv at 0x7a02456ccaa0>),\n",
       " {})"
      ]
     },
     "execution_count": 10,
     "metadata": {},
     "output_type": "execute_result"
    }
   ],
   "source": [
    "env.reset()"
   ]
  },
  {
   "cell_type": "code",
   "execution_count": 11,
   "metadata": {},
   "outputs": [
    {
     "name": "stdout",
     "output_type": "stream",
     "text": [
      "0.46750242300345857\n",
      "0.5754676447055239\n",
      "1\n",
      "1\n",
      "1.0\n",
      "0.46750242300345857\n",
      "1.0\n",
      "0.5754676447055239\n",
      "1.0\n",
      "1.0\n",
      "1.0\n",
      "1.0\n"
     ]
    }
   ],
   "source": [
    "g = env\n",
    "for m in g.teams[0].active.moves:\n",
    "    print(m.acc)\n",
    "    m.real_acc = float(m.acc)\n",
    "    m.acc = 1.0\n",
    "for m in g.teams[0].active.moves:\n",
    "    print(m.acc)\n",
    "    print(m.real_acc)"
   ]
  },
  {
   "cell_type": "code",
   "execution_count": null,
   "metadata": {},
   "outputs": [],
   "source": []
  }
 ],
 "metadata": {
  "kernelspec": {
   "display_name": "Python 3",
   "language": "python",
   "name": "python3"
  },
  "language_info": {
   "codemirror_mode": {
    "name": "ipython",
    "version": 3
   },
   "file_extension": ".py",
   "mimetype": "text/x-python",
   "name": "python",
   "nbconvert_exporter": "python",
   "pygments_lexer": "ipython3",
   "version": "3.10.12"
  }
 },
 "nbformat": 4,
 "nbformat_minor": 2
}
