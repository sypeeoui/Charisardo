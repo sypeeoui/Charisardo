{
 "cells": [
  {
   "cell_type": "code",
   "execution_count": 1,
   "metadata": {},
   "outputs": [],
   "source": [
    "import numpy as np\n",
    "import matplotlib.pyplot as plt\n",
    "import time\n",
    "from vgc.behaviour.BattlePolicies import *\n",
    "from vgc.datatypes.Objects import PkmTeam\n",
    "from vgc.engine.PkmBattleEnv import PkmBattleEnv\n",
    "from vgc.balance.meta import StandardMetaData\n",
    "from vgc.behaviour.TeamBuildPolicies import RandomTeamBuilder\n",
    "from vgc.behaviour.TeamSelectionPolicies import RandomTeamSelectionPolicy\n",
    "from vgc.util.generator.PkmRosterGenerators import RandomPkmRosterGenerator\n",
    "from vgc.util.generator.PkmTeamGenerators import RandomTeamGenerator\n",
    "from multiprocessing.connection import Client\n",
    "\n",
    "import sys, os\n",
    "# add relative parent directory to path\n",
    "sys.path.append(os.path.dirname(os.getcwd()))\n",
    "\n",
    "from utils import OwnRandomTeamGenerator\n",
    "from policies.PrunedTreeSearch import PrunedTreeSearch\n"
   ]
  },
  {
   "cell_type": "code",
   "execution_count": 2,
   "metadata": {},
   "outputs": [],
   "source": [
    "gen = OwnRandomTeamGenerator()\n",
    "full_team0 = gen.get_team()\n",
    "full_team1 = gen.get_team()\n",
    "team0 = full_team0.get_battle_team([0, 1, 2])\n",
    "team1 = full_team1.get_battle_team([0, 1, 2])\n",
    "agent0, agent1 = PrunedTreeSearch(), TypeSelector()\n",
    "\n",
    "env = PkmBattleEnv((team0, team1),\n",
    "                   encode=(agent0.requires_encode(), agent1.requires_encode()), debug=True)  # set new environment with teams\n"
   ]
  },
  {
   "cell_type": "code",
   "execution_count": 3,
   "metadata": {},
   "outputs": [
    {
     "name": "stdout",
     "output_type": "stream",
     "text": [
      "PkmMove(Power=154, Acc=0.5, PP=10, Type=POISON)\n",
      "PkmMove(Power=148, Acc=0.1, PP=25, Type=NORMAL)\n",
      "PkmMove(Power=145, Acc=0.5, PP=15, Type=FLYING)\n",
      "PkmMove(Power=103, Acc=0.6, PP=15, Type=STEEL)\n",
      "\n",
      "PkmMove(Power=1, Acc=1.0, PP=30, Type=FLYING)\n",
      "PkmMove(Power=56, Acc=0.7, PP=20, Type=FLYING)\n",
      "PkmMove(Power=143, Acc=0.6, PP=5, Type=FAIRY)\n",
      "PkmMove(Power=149, Acc=0.7, PP=5, Type=POISON)\n",
      "\n",
      "Active:\n",
      "Pkm(Type=POISON, HP=92, Moves={PkmMove(Power=154, Acc=0.5, PP=10, Type=POISON), PkmMove(Power=148, Acc=0.1, PP=25, Type=NORMAL), PkmMove(Power=145, Acc=0.5, PP=15, Type=FLYING), PkmMove(Power=103, Acc=0.6, PP=15, Type=STEEL), })\n",
      "Party:\n",
      "Pkm(Type=GRASS, HP=240, Moves={PkmMove(Power=124, Acc=0.6, PP=10, Type=GRASS), PkmMove(Power=60, Acc=0.8, PP=15, Type=ELECTRIC), PkmMove(Power=91, Acc=0.9, PP=10, Type=STEEL), PkmMove(Power=1, Acc=1.0, PP=30, Type=BUG), })\n",
      "Pkm(Type=ELECTRIC, HP=131, Moves={PkmMove(Power=152, Acc=0.4, PP=15, Type=ELECTRIC), PkmMove(Power=157, Acc=0.7, PP=5, Type=FAIRY), PkmMove(Power=86, Acc=0.8, PP=10, Type=DRAGON), PkmMove(Power=124, Acc=0.3, PP=20, Type=FLYING), })\n",
      "\n",
      "Active:\n",
      "Pkm(Type=FLYING, HP=192, Moves={PkmMove(Power=1, Acc=1.0, PP=30, Type=FLYING), PkmMove(Power=56, Acc=0.7, PP=20, Type=FLYING), PkmMove(Power=143, Acc=0.6, PP=5, Type=FAIRY), PkmMove(Power=149, Acc=0.7, PP=5, Type=POISON), })\n",
      "Party:\n",
      "Pkm(Type=GHOST, HP=161, Moves={PkmMove(Power=107, Acc=0.7, PP=10, Type=GHOST), PkmMove(Power=158, Acc=0.9, PP=3, Type=ROCK), PkmMove(Power=75, Acc=0.6, PP=20, Type=PSYCHIC), PkmMove(Power=194, Acc=0.5, PP=5, Type=GROUND), })\n",
      "Pkm(Type=ROCK, HP=221, Moves={PkmMove(Power=92, Acc=0.6, PP=15, Type=ROCK), PkmMove(Power=136, Acc=0.6, PP=10, Type=GROUND), PkmMove(Power=114, Acc=1.0, PP=5, Type=FIRE), PkmMove(Power=142, Acc=1.0, PP=3, Type=ROCK), })\n",
      "\n"
     ]
    }
   ],
   "source": [
    "# team0.active.moves[0].acc = 0\n",
    "# team0.active.moves[1].acc = 0\n",
    "# team0.active.moves[2].acc = 0\n",
    "# team0.active.moves[3].acc = 0\n",
    "\n",
    "for move in team0.active.moves:\n",
    "    print(move.__str__())\n",
    "\n",
    "print()\n",
    "for move in team1.active.moves:\n",
    "    print(move.__str__())\n",
    "print()\n",
    "\n",
    "print(team0.__str__())\n",
    "print(team1.__str__())\n",
    "\n",
    "# team1.active.moves[0].pp = 1"
   ]
  },
  {
   "cell_type": "code",
   "execution_count": 4,
   "metadata": {},
   "outputs": [
    {
     "name": "stdout",
     "output_type": "stream",
     "text": [
      "Pkm(Type=POISON, HP=92, Moves={PkmMove(Power=154, Acc=0.5, PP=10, Type=POISON), PkmMove(Power=148, Acc=0.1, PP=25, Type=NORMAL), PkmMove(Power=145, Acc=0.5, PP=15, Type=FLYING), PkmMove(Power=103, Acc=0.6, PP=15, Type=STEEL), })\n"
     ]
    }
   ],
   "source": [
    "print(team0.active)"
   ]
  },
  {
   "cell_type": "code",
   "execution_count": 5,
   "metadata": {},
   "outputs": [
    {
     "name": "stdout",
     "output_type": "stream",
     "text": [
      "\n",
      "0.0\n"
     ]
    }
   ],
   "source": [
    "# # print(agent0.game_state_eval(env))\n",
    "# s, _, _, _, _ = env.step([1, 3])\n",
    "print(env.log)\n",
    "print(agent0.game_state_eval(env))"
   ]
  },
  {
   "cell_type": "code",
   "execution_count": 6,
   "metadata": {},
   "outputs": [
    {
     "data": {
      "text/plain": [
       "((<vgc.engine.PkmBattleEnv.PkmBattleEnv at 0x7492248903a0>,\n",
       "  <vgc.engine.PkmBattleEnv.PkmBattleEnv at 0x7492248922f0>),\n",
       " {})"
      ]
     },
     "execution_count": 6,
     "metadata": {},
     "output_type": "execute_result"
    }
   ],
   "source": [
    "env.reset()"
   ]
  },
  {
   "cell_type": "code",
   "execution_count": 13,
   "metadata": {},
   "outputs": [
    {
     "name": "stdout",
     "output_type": "stream",
     "text": [
      "[16, 16, 0, 16, 0, 0]\n"
     ]
    }
   ],
   "source": [
    "from multiprocessing import Pool\n",
    "\n",
    "def get_action_wrapper(_):\n",
    "    return agent0.get_action(env, depth=4)\n",
    "\n",
    "moves = [0, 0, 0, 0, 0, 0]\n",
    "with Pool() as pool:\n",
    "    results = pool.map(get_action_wrapper, range(48), chunksize=3)\n",
    "\n",
    "# print(agent0.get_action(env, depth=4))\n",
    "\n",
    "for result in results:\n",
    "    moves[result] += 1\n",
    "\n",
    "print(moves)"
   ]
  },
  {
   "cell_type": "code",
   "execution_count": 8,
   "metadata": {},
   "outputs": [
    {
     "ename": "NameError",
     "evalue": "name 's' is not defined",
     "output_type": "error",
     "traceback": [
      "\u001b[0;31m---------------------------------------------------------------------------\u001b[0m",
      "\u001b[0;31mNameError\u001b[0m                                 Traceback (most recent call last)",
      "Cell \u001b[0;32mIn[8], line 1\u001b[0m\n\u001b[0;32m----> 1\u001b[0m \u001b[38;5;28mprint\u001b[39m(\u001b[43ms\u001b[49m[\u001b[38;5;241m0\u001b[39m]\u001b[38;5;241m.\u001b[39mwinner, env\u001b[38;5;241m.\u001b[39mwinner, s[\u001b[38;5;241m1\u001b[39m]\u001b[38;5;241m.\u001b[39mwinner)\n",
      "\u001b[0;31mNameError\u001b[0m: name 's' is not defined"
     ]
    }
   ],
   "source": [
    "print(s[0].winner, env.winner, s[1].winner)"
   ]
  },
  {
   "cell_type": "code",
   "execution_count": null,
   "metadata": {},
   "outputs": [
    {
     "data": {
      "text/plain": [
       "((<vgc.engine.PkmBattleEnv.PkmBattleEnv at 0x7b153e76cfd0>,\n",
       "  <vgc.engine.PkmBattleEnv.PkmBattleEnv at 0x7b14ecf35810>),\n",
       " {})"
      ]
     },
     "execution_count": 9,
     "metadata": {},
     "output_type": "execute_result"
    }
   ],
   "source": [
    "env.reset()"
   ]
  },
  {
   "cell_type": "code",
   "execution_count": null,
   "metadata": {},
   "outputs": [
    {
     "name": "stdout",
     "output_type": "stream",
     "text": [
      "0.8975697760890695\n",
      "0.6000781160799146\n",
      "0.8856142920402625\n",
      "0.7953228754840356\n",
      "1.0\n",
      "0.8975697760890695\n",
      "1.0\n",
      "0.6000781160799146\n",
      "1.0\n",
      "0.8856142920402625\n",
      "1.0\n",
      "0.7953228754840356\n"
     ]
    }
   ],
   "source": [
    "g = env\n",
    "for m in g.teams[0].active.moves:\n",
    "    print(m.acc)\n",
    "    m.real_acc = float(m.acc)\n",
    "    m.acc = 1.0\n",
    "for m in g.teams[0].active.moves:\n",
    "    print(m.acc)\n",
    "    print(m.real_acc)"
   ]
  },
  {
   "cell_type": "code",
   "execution_count": null,
   "metadata": {},
   "outputs": [],
   "source": []
  }
 ],
 "metadata": {
  "kernelspec": {
   "display_name": "Python 3",
   "language": "python",
   "name": "python3"
  },
  "language_info": {
   "codemirror_mode": {
    "name": "ipython",
    "version": 3
   },
   "file_extension": ".py",
   "mimetype": "text/x-python",
   "name": "python",
   "nbconvert_exporter": "python",
   "pygments_lexer": "ipython3",
   "version": "3.10.12"
  }
 },
 "nbformat": 4,
 "nbformat_minor": 2
}
