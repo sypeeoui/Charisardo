{
 "cells": [
  {
   "cell_type": "code",
   "execution_count": 24,
   "metadata": {},
   "outputs": [],
   "source": [
    "import numpy as np\n",
    "import matplotlib.pyplot as plt\n",
    "import time\n",
    "from vgc.behaviour.BattlePolicies import *\n",
    "from vgc.datatypes.Objects import PkmTeam\n",
    "# from vgc.engine.PkmBattleEnv import PkmBattleEnv\n",
    "from vgc.balance.meta import StandardMetaData\n",
    "from vgc.behaviour.TeamBuildPolicies import RandomTeamBuilder\n",
    "from vgc.behaviour.TeamSelectionPolicies import RandomTeamSelectionPolicy\n",
    "from vgc.util.generator.PkmRosterGenerators import RandomPkmRosterGenerator\n",
    "from vgc.util.generator.PkmTeamGenerators import RandomTeamGenerator\n",
    "from multiprocessing.connection import Client\n",
    "\n",
    "import sys, os\n",
    "# add relative parent directory to path\n",
    "sys.path.append(os.path.dirname(os.getcwd()))\n",
    "\n",
    "from utils import OwnRandomTeamGenerator, MyPkmEnv\n",
    "from policies.PrunedTreeSearch import PrunedTreeSearch\n",
    "from policies.Heuristical import Heuristical"
   ]
  },
  {
   "cell_type": "code",
   "execution_count": null,
   "metadata": {},
   "outputs": [
    {
     "data": {
      "text/plain": [
       "(0, 0)"
      ]
     },
     "execution_count": 2,
     "metadata": {},
     "output_type": "execute_result"
    }
   ],
   "source": [
    "gen = OwnRandomTeamGenerator()\n",
    "full_team0 = gen.get_team()\n",
    "full_team1 = gen.get_team()\n",
    "team0 = full_team0.get_battle_team([0, 1, 2])\n",
    "team1 = full_team1.get_battle_team([0, 1, 2])\n",
    "agent0, agent1 = Heuristical(), TypeSelector()\n",
    "\n",
    "env = MyPkmEnv((team0, team1),\n",
    "                   encode=(agent0.requires_encode(), agent1.requires_encode()), debug=True)  # set new environment with teams"
   ]
  },
  {
   "cell_type": "code",
   "execution_count": null,
   "metadata": {},
   "outputs": [
    {
     "data": {
      "text/plain": [
       "0"
      ]
     },
     "execution_count": 28,
     "metadata": {},
     "output_type": "execute_result"
    }
   ],
   "source": [
    "agent0.get_action(env)"
   ]
  },
  {
   "cell_type": "code",
   "execution_count": 7,
   "metadata": {},
   "outputs": [
    {
     "name": "stdout",
     "output_type": "stream",
     "text": [
      "PkmMove(Power=1, Acc=1.0, PP=30, Type=NORMAL)\n",
      "PkmMove(Power=74, Acc=0.6, PP=20, Type=DARK)\n",
      "PkmMove(Power=48, Acc=0.9, PP=20, Type=NORMAL)\n",
      "PkmMove(Power=115, Acc=1.0, PP=5, Type=FAIRY)\n",
      "\n",
      "PkmMove(Power=83, Acc=0.9, PP=10, Type=GRASS)\n",
      "PkmMove(Power=95, Acc=0.7, PP=15, Type=FAIRY)\n",
      "PkmMove(Power=185, Acc=0.7, PP=3, Type=NORMAL)\n",
      "PkmMove(Power=44, Acc=1.0, PP=20, Type=DRAGON)\n",
      "\n",
      "Active:\n",
      "Pkm(Type=NORMAL, HP=172, Moves={PkmMove(Power=1, Acc=1.0, PP=30, Type=NORMAL), PkmMove(Power=74, Acc=0.6, PP=20, Type=DARK), PkmMove(Power=48, Acc=0.9, PP=20, Type=NORMAL), PkmMove(Power=115, Acc=1.0, PP=5, Type=FAIRY), })\n",
      "Party:\n",
      "Pkm(Type=PSYCHIC, HP=131, Moves={PkmMove(Power=77, Acc=0.6, PP=20, Type=PSYCHIC), PkmMove(Power=138, Acc=0.9, PP=3, Type=WATER), PkmMove(Power=116, Acc=0.5, PP=15, Type=FIRE), PkmMove(Power=115, Acc=0.9, PP=5, Type=PSYCHIC), })\n",
      "Pkm(Type=ROCK, HP=154, Moves={PkmMove(Power=15, Acc=1.0, PP=30, Type=ROCK), PkmMove(Power=1, Acc=1.0, PP=30, Type=GRASS), PkmMove(Power=1, Acc=1.0, PP=30, Type=FIRE), PkmMove(Power=1, Acc=1.0, PP=30, Type=NORMAL), })\n",
      "\n",
      "Active:\n",
      "Pkm(Type=GRASS, HP=144, Moves={PkmMove(Power=83, Acc=0.9, PP=10, Type=GRASS), PkmMove(Power=95, Acc=0.7, PP=15, Type=FAIRY), PkmMove(Power=185, Acc=0.7, PP=3, Type=NORMAL), PkmMove(Power=44, Acc=1.0, PP=20, Type=DRAGON), })\n",
      "Party:\n",
      "Pkm(Type=ICE, HP=181, Moves={PkmMove(Power=21, Acc=1.0, PP=25, Type=ICE), PkmMove(Power=58, Acc=1.0, PP=15, Type=FLYING), PkmMove(Power=31, Acc=1.0, PP=20, Type=GROUND), PkmMove(Power=30, Acc=0.9, PP=25, Type=DARK), })\n",
      "Pkm(Type=ELECTRIC, HP=191, Moves={PkmMove(Power=38, Acc=0.8, PP=25, Type=ELECTRIC), PkmMove(Power=44, Acc=0.9, PP=20, Type=ROCK), PkmMove(Power=90, Acc=0.6, PP=15, Type=BUG), PkmMove(Power=17, Acc=1.0, PP=30, Type=GRASS), })\n",
      "\n"
     ]
    }
   ],
   "source": [
    "# team0.active.moves[0].acc = 0\n",
    "# team0.active.moves[1].acc = 0\n",
    "# team0.active.moves[2].acc = 0\n",
    "# team0.active.moves[3].acc = 0\n",
    "\n",
    "for move in team0.active.moves:\n",
    "    print(move.__str__())\n",
    "\n",
    "print()\n",
    "for move in team1.active.moves:\n",
    "    print(move.__str__())\n",
    "print()\n",
    "\n",
    "print(team0.__str__())\n",
    "print(team1.__str__())\n",
    "\n",
    "\n",
    "# team1.active.moves[0].pp = 1"
   ]
  },
  {
   "cell_type": "code",
   "execution_count": 72,
   "metadata": {},
   "outputs": [
    {
     "name": "stdout",
     "output_type": "stream",
     "text": [
      "Pkm(Type=FAIRY, HP=160, Moves={PkmMove(Power=90, Acc=0.6, PP=15, Type=FAIRY), PkmMove(Power=58, Acc=0.7, PP=20, Type=ROCK), PkmMove(Power=38, Acc=1.0, PP=20, Type=DARK), PkmMove(Power=34, Acc=0.6, PP=25, Type=BUG), })\n"
     ]
    }
   ],
   "source": [
    "print(team0.active)"
   ]
  },
  {
   "cell_type": "code",
   "execution_count": 73,
   "metadata": {},
   "outputs": [],
   "source": [
    "g = deepcopy(env)\n",
    "g = deepcopy(g)"
   ]
  },
  {
   "cell_type": "code",
   "execution_count": 74,
   "metadata": {},
   "outputs": [
    {
     "name": "stdout",
     "output_type": "stream",
     "text": [
      "TURN 1\n",
      "\n",
      "SWITCH: Trainer 0 switches Pkm(Type=FAIRY, HP=160, Moves={PkmMove(Power=90, Acc=0.6, PP=15, Type=FAIRY), PkmMove(Power=58, Acc=0.7, PP=20, Type=ROCK), PkmMove(Power=38, Acc=1.0, PP=20, Type=DARK), PkmMove(Power=34, Acc=0.6, PP=25, Type=BUG), }) with Pkm(Type=GRASS, HP=123, Moves={PkmMove(Power=165, Acc=0.4, PP=15, Type=GRASS), PkmMove(Power=1, Acc=1.0, PP=30, Type=NORMAL), PkmMove(Power=79, Acc=0.7, PP=15, Type=FIGHT), PkmMove(Power=95, Acc=0.6, PP=15, Type=BUG), }) in party\n",
      "INVALID SWITCH: Trainer 1 fails to switch\n",
      "\n"
     ]
    }
   ],
   "source": [
    "# # print(agent0.game_state_eval(env))\n",
    "s, a, b, c, d = g.step([4, 66])\n",
    "print(g.log)\n",
    "# print(agent0.get_action(env))"
   ]
  },
  {
   "cell_type": "code",
   "execution_count": 75,
   "metadata": {},
   "outputs": [
    {
     "name": "stdout",
     "output_type": "stream",
     "text": [
      "Active:\n",
      "Pkm(Type=GRASS, HP=123, Moves={PkmMove(Power=165, Acc=0.4, PP=15, Type=GRASS), PkmMove(Power=1, Acc=1.0, PP=30, Type=NORMAL), PkmMove(Power=79, Acc=0.7, PP=15, Type=FIGHT), PkmMove(Power=95, Acc=0.6, PP=15, Type=BUG), })\n",
      "Party:\n",
      "Pkm(Type=FAIRY, HP=160, Moves={PkmMove(Power=90, Acc=0.6, PP=15, Type=FAIRY), PkmMove(Power=58, Acc=0.7, PP=20, Type=ROCK), PkmMove(Power=38, Acc=1.0, PP=20, Type=DARK), PkmMove(Power=34, Acc=0.6, PP=25, Type=BUG), })\n",
      "Pkm(Type=ROCK, HP=139, Moves={PkmMove(Power=94, Acc=1.0, PP=5, Type=ROCK), PkmMove(Power=51, Acc=0.7, PP=20, Type=FIRE), PkmMove(Power=86, Acc=0.2, PP=25, Type=FAIRY), PkmMove(Power=97, Acc=0.1, PP=30, Type=NORMAL), })\n",
      "\n",
      "Active:\n",
      "Pkm(Type=ICE, HP=119, Moves={PkmMove(Power=136, Acc=0.4, PP=15, Type=ICE), PkmMove(Power=141, Acc=1.0, PP=3, Type=BUG), PkmMove(Power=64, Acc=0.8, PP=15, Type=STEEL), PkmMove(Power=109, Acc=0.5, PP=15, Type=ELECTRIC), })\n",
      "Party:\n",
      "Pkm(Type=NORMAL, HP=230, Moves={PkmMove(Power=79, Acc=0.8, PP=15, Type=NORMAL), PkmMove(Power=71, Acc=1.0, PP=10, Type=STEEL), PkmMove(Power=16, Acc=1.0, PP=30, Type=PSYCHIC), PkmMove(Power=46, Acc=1.0, PP=20, Type=BUG), })\n",
      "Pkm(Type=ELECTRIC, HP=181, Moves={PkmMove(Power=89, Acc=0.6, PP=15, Type=ELECTRIC), PkmMove(Power=53, Acc=0.7, PP=20, Type=DRAGON), PkmMove(Power=49, Acc=1.0, PP=20, Type=STEEL), PkmMove(Power=48, Acc=1.0, PP=20, Type=NORMAL), })\n",
      "\n",
      "Active:\n",
      "Pkm(Type=GRASS, HP=123, Moves={PkmMove(Power=165, Acc=0.4, PP=15, Type=GRASS), PkmMove(Power=1, Acc=1.0, PP=30, Type=NORMAL), PkmMove(Power=79, Acc=0.7, PP=15, Type=FIGHT), PkmMove(Power=95, Acc=0.6, PP=15, Type=BUG), })\n",
      "Party:\n",
      "Pkm(Type=FAIRY, HP=160, Moves={PkmMove(Power=90, Acc=0.6, PP=15, Type=FAIRY), PkmMove(Power=58, Acc=0.7, PP=20, Type=ROCK), PkmMove(Power=38, Acc=1.0, PP=20, Type=DARK), PkmMove(Power=34, Acc=0.6, PP=25, Type=BUG), })\n",
      "Pkm(Type=ROCK, HP=139, Moves={PkmMove(Power=94, Acc=1.0, PP=5, Type=ROCK), PkmMove(Power=51, Acc=0.7, PP=20, Type=FIRE), PkmMove(Power=86, Acc=0.2, PP=25, Type=FAIRY), PkmMove(Power=97, Acc=0.1, PP=30, Type=NORMAL), })\n",
      "\n",
      "Active:\n",
      "Pkm(Type=ICE, HP=119, Moves={PkmMove(Power=136, Acc=0.4, PP=15, Type=ICE), PkmMove(Power=141, Acc=1.0, PP=3, Type=BUG), PkmMove(Power=64, Acc=0.8, PP=15, Type=STEEL), PkmMove(Power=109, Acc=0.5, PP=15, Type=ELECTRIC), })\n",
      "Party:\n",
      "Pkm(Type=NORMAL, HP=230, Moves={PkmMove(Power=79, Acc=0.8, PP=15, Type=NORMAL), PkmMove(Power=71, Acc=1.0, PP=10, Type=STEEL), PkmMove(Power=16, Acc=1.0, PP=30, Type=PSYCHIC), PkmMove(Power=46, Acc=1.0, PP=20, Type=BUG), })\n",
      "Pkm(Type=ELECTRIC, HP=181, Moves={PkmMove(Power=89, Acc=0.6, PP=15, Type=ELECTRIC), PkmMove(Power=53, Acc=0.7, PP=20, Type=DRAGON), PkmMove(Power=49, Acc=1.0, PP=20, Type=STEEL), PkmMove(Power=48, Acc=1.0, PP=20, Type=NORMAL), })\n",
      "\n",
      "Active:\n",
      "Pkm(Type=ICE, HP=119, Moves={PkmMove(Power=136, Acc=0.4, PP=15, Type=ICE), PkmMove(Power=141, Acc=1.0, PP=3, Type=BUG), PkmMove(Power=64, Acc=0.8, PP=15, Type=STEEL), PkmMove(Power=109, Acc=0.5, PP=15, Type=ELECTRIC), })\n",
      "Party:\n",
      "Pkm(Type=NORMAL, HP=230, Moves={PkmMove(Power=79, Acc=0.8, PP=15, Type=NORMAL), PkmMove(Power=71, Acc=1.0, PP=10, Type=STEEL), PkmMove(Power=16, Acc=1.0, PP=30, Type=PSYCHIC), PkmMove(Power=46, Acc=1.0, PP=20, Type=BUG), })\n",
      "Pkm(Type=ELECTRIC, HP=181, Moves={PkmMove(Power=89, Acc=0.6, PP=15, Type=ELECTRIC), PkmMove(Power=53, Acc=0.7, PP=20, Type=DRAGON), PkmMove(Power=49, Acc=1.0, PP=20, Type=STEEL), PkmMove(Power=48, Acc=1.0, PP=20, Type=NORMAL), })\n",
      "\n",
      "Active:\n",
      "Pkm(Type=GRASS, HP=123, Moves={PkmMove(Power=165, Acc=0.4, PP=15, Type=GRASS), PkmMove(Power=1, Acc=1.0, PP=30, Type=NORMAL), PkmMove(Power=79, Acc=0.7, PP=15, Type=FIGHT), PkmMove(Power=95, Acc=0.6, PP=15, Type=BUG), })\n",
      "Party:\n",
      "Pkm(Type=FAIRY, HP=160, Moves={PkmMove(Power=90, Acc=0.6, PP=15, Type=FAIRY), PkmMove(Power=58, Acc=0.7, PP=20, Type=ROCK), PkmMove(Power=38, Acc=1.0, PP=20, Type=DARK), PkmMove(Power=34, Acc=0.6, PP=25, Type=BUG), })\n",
      "Pkm(Type=ROCK, HP=139, Moves={PkmMove(Power=94, Acc=1.0, PP=5, Type=ROCK), PkmMove(Power=51, Acc=0.7, PP=20, Type=FIRE), PkmMove(Power=86, Acc=0.2, PP=25, Type=FAIRY), PkmMove(Power=97, Acc=0.1, PP=30, Type=NORMAL), })\n",
      "\n"
     ]
    }
   ],
   "source": [
    "print(g.teams[0].__str__())\n",
    "print(g.teams[1].__str__())\n",
    "print(s[0].teams[0].__str__())\n",
    "print(s[0].teams[1].__str__())\n",
    "print(s[1].teams[0].__str__())\n",
    "print(s[1].teams[1].__str__())"
   ]
  },
  {
   "cell_type": "code",
   "execution_count": 8,
   "metadata": {},
   "outputs": [
    {
     "name": "stdout",
     "output_type": "stream",
     "text": [
      "TURN 1\n",
      "\n",
      "SWITCH: Trainer 0 switches Pkm(Type=POISON, HP=157, Moves={PkmMove(Power=1, Acc=1.0, PP=30, Type=POISON), PkmMove(Power=43, Acc=0.7, PP=20, Type=FLYING), PkmMove(Power=86, Acc=0.6, PP=20, Type=GHOST), PkmMove(Power=75, Acc=0.5, PP=20, Type=FLYING), }) with Pkm(Type=POISON, HP=109, Moves={PkmMove(Power=69, Acc=0.4, PP=25, Type=POISON), PkmMove(Power=118, Acc=0.7, PP=10, Type=NORMAL), PkmMove(Power=30, Acc=0.7, PP=25, Type=FIRE), PkmMove(Power=75, Acc=0.6, PP=20, Type=GHOST), }) in party\n",
      "INVALID SWITCH: Trainer 1 fails to switch\n",
      "\n"
     ]
    }
   ],
   "source": [
    "print(env.log)"
   ]
  },
  {
   "cell_type": "code",
   "execution_count": 7,
   "metadata": {},
   "outputs": [
    {
     "data": {
      "text/plain": [
       "((<utils.own_env.MyPkmEnv at 0x78df640cafc0>,\n",
       "  <utils.own_env.MyPkmEnv at 0x78dfaf9d1070>),\n",
       " {})"
      ]
     },
     "execution_count": 7,
     "metadata": {},
     "output_type": "execute_result"
    }
   ],
   "source": [
    "env.reset()"
   ]
  },
  {
   "cell_type": "code",
   "execution_count": 18,
   "metadata": {},
   "outputs": [
    {
     "data": {
      "text/plain": [
       "0"
      ]
     },
     "execution_count": 18,
     "metadata": {},
     "output_type": "execute_result"
    }
   ],
   "source": [
    "agent0.get_action(env)"
   ]
  },
  {
   "cell_type": "code",
   "execution_count": 10,
   "metadata": {},
   "outputs": [],
   "source": [
    "# from multiprocessing import Pool\n",
    "\n",
    "# def get_action_wrapper(_):\n",
    "#     return agent0.get_action(env, depth=4)\n",
    "\n",
    "# moves = [0, 0, 0, 0, 0, 0]\n",
    "# with Pool() as pool:\n",
    "#     results = pool.map(get_action_wrapper, range(15), chunksize=1)\n",
    "\n",
    "# # print(agent0.get_action(env, depth=4))\n",
    "\n",
    "# for result in results:\n",
    "#     moves[result] += 1\n",
    "\n",
    "# print(moves)"
   ]
  },
  {
   "cell_type": "code",
   "execution_count": 11,
   "metadata": {},
   "outputs": [
    {
     "ename": "NameError",
     "evalue": "name 'get_action_wrapper' is not defined",
     "output_type": "error",
     "traceback": [
      "\u001b[0;31m---------------------------------------------------------------------------\u001b[0m",
      "\u001b[0;31mNameError\u001b[0m                                 Traceback (most recent call last)",
      "Cell \u001b[0;32mIn[11], line 1\u001b[0m\n\u001b[0;32m----> 1\u001b[0m \u001b[43mget_action_wrapper\u001b[49m(\u001b[38;5;241m0\u001b[39m)\n",
      "\u001b[0;31mNameError\u001b[0m: name 'get_action_wrapper' is not defined"
     ]
    }
   ],
   "source": [
    "get_action_wrapper(0)"
   ]
  },
  {
   "cell_type": "code",
   "execution_count": null,
   "metadata": {},
   "outputs": [
    {
     "name": "stdout",
     "output_type": "stream",
     "text": [
      "Metodo del figlio\n"
     ]
    }
   ],
   "source": [
    "class Padre:\n",
    "    def _a(self):\n",
    "        return \"Metodo del padre\"\n",
    "\n",
    "    def usa_a(self):\n",
    "        return self._a()\n",
    "\n",
    "class Figlio(Padre):\n",
    "    def _a(self):\n",
    "        return \"Metodo del figlio\"\n",
    "\n",
    "# Test\n",
    "figlio = Figlio()\n",
    "print(figlio.usa_a())  # Output: \"Metodo del figlio\"\n"
   ]
  },
  {
   "cell_type": "code",
   "execution_count": null,
   "metadata": {},
   "outputs": [
    {
     "data": {
      "text/plain": [
       "((<vgc.engine.PkmBattleEnv.PkmBattleEnv at 0x7a02cf7343b0>,\n",
       "  <vgc.engine.PkmBattleEnv.PkmBattleEnv at 0x7a02456ccaa0>),\n",
       " {})"
      ]
     },
     "execution_count": 10,
     "metadata": {},
     "output_type": "execute_result"
    }
   ],
   "source": [
    "env.reset()"
   ]
  },
  {
   "cell_type": "code",
   "execution_count": null,
   "metadata": {},
   "outputs": [
    {
     "name": "stdout",
     "output_type": "stream",
     "text": [
      "0.46750242300345857\n",
      "0.5754676447055239\n",
      "1\n",
      "1\n",
      "1.0\n",
      "0.46750242300345857\n",
      "1.0\n",
      "0.5754676447055239\n",
      "1.0\n",
      "1.0\n",
      "1.0\n",
      "1.0\n"
     ]
    }
   ],
   "source": [
    "g = env\n",
    "for m in g.teams[0].active.moves:\n",
    "    print(m.acc)\n",
    "    m.real_acc = float(m.acc)\n",
    "    m.acc = 1.0\n",
    "for m in g.teams[0].active.moves:\n",
    "    print(m.acc)\n",
    "    print(m.real_acc)"
   ]
  },
  {
   "cell_type": "code",
   "execution_count": null,
   "metadata": {},
   "outputs": [],
   "source": []
  }
 ],
 "metadata": {
  "kernelspec": {
   "display_name": "Python 3",
   "language": "python",
   "name": "python3"
  },
  "language_info": {
   "codemirror_mode": {
    "name": "ipython",
    "version": 3
   },
   "file_extension": ".py",
   "mimetype": "text/x-python",
   "name": "python",
   "nbconvert_exporter": "python",
   "pygments_lexer": "ipython3",
   "version": "3.12.4"
  }
 },
 "nbformat": 4,
 "nbformat_minor": 4
}
