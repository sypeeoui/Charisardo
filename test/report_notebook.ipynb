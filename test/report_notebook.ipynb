{
 "cells": [
  {
   "cell_type": "markdown",
   "metadata": {},
   "source": [
    "### ARTIFICIAL INTELLIGENCE FUNDAMENTALS PROJECT 2024/2025 - Charisardo Team \n",
    "\n",
    "[Github repository](https://github.com/sypeeoui/Charisardo) \n",
    "\n",
    "#### 1. Introduction\n",
    "Our project focused on the design and implementation of several agent algorithms capable of engaging in Pokémon battles with randomly selected teams, determining the best move from those available. \n",
    "The task was part of the battle track of the VGC AI Competition 2024.\n",
    "We simulated the battles using the VGC AI Framework, which we modified to introduce non-determinism and to add additional features to the Pokémon. <br>\n",
    "We developed four strategies using three approaches:\n",
    "* Heuristic-based method\n",
    "* Minimax search with alpha-beta pruning\n",
    "* Greedy search (two versions)"
   ]
  },
  {
   "cell_type": "markdown",
   "metadata": {},
   "source": [
    "#### 2. Related works\n",
    "To build the Pokémon teams and simulate the battles we used [VGC AI framework](https://gitlab.com/DracoStriker/pokemon-vgc-engine), an environment designed to emulate the scenario of human video game championships of Pokémon with AI agents, including the game balance aspect. \n",
    "We also used the policies already implemented in the framework as a benchmarck to evaluate our algorithms. More information about the VCG AI framework are avaiable in the related [paper](https://ieeexplore.ieee.org/document/9618985). <br>\n",
    "To design and implement some of our algorithms we referred to the textbook *Artificial Intelligence: a Modern Approach*, by Russell and Norvig, in particular chapters 3.5, 5.2 and 5.3.\n",
    "\n"
   ]
  },
  {
   "cell_type": "markdown",
   "metadata": {},
   "source": [
    "#### 3. Methodologies\n",
    "spiegate modifiche a environment e algoritmi\n",
    "#### 3.1 Environment\n",
    "\n",
    "#### 3.2 Algorithms\n",
    "\n",
    "##### 3.2.1 Heuristical\n",
    "\n",
    "##### 3.2.2 PrunedTreeSearch\n",
    "\n",
    "##### 3.2.3 WeightedGreedy 1/2"
   ]
  },
  {
   "cell_type": "markdown",
   "metadata": {},
   "source": [
    "#### 4. Assessment\n",
    "We evaluated the performance of our algorithms comparing them to each other and to six already implemented policies: 'RandomPlayer', 'TypeSelector', 'BreadthFirstSearch', 'OneTurnLookahead', 'PrunedBFS' and 'TunedTreeTraversal'.\n",
    "\n",
    "We simulated 600 battles for each combination of policies and used win rate, number of turns and required time as evaluation metrics. \n",
    "\n",
    "##### 4.1 Win rate \n",
    "Matrix and division by policy\n",
    "##### 4.2 Number of turns\n",
    "\n",
    "##### 4.3 Time\n"
   ]
  },
  {
   "cell_type": "markdown",
   "metadata": {},
   "source": [
    "#### 5. Conclusions"
   ]
  },
  {
   "cell_type": "markdown",
   "metadata": {},
   "source": [
    "#### 6 Appendix:\n",
    "##### 6.1 Team contribution:\n",
    "- Vito\n",
    "- Suqi\n",
    "- Salvatore\n",
    "- Antonio\n",
    "- Matilde carried out initial analyses and final assesment <br>\n",
    "\n",
    "Everyone contibuted on idea development, bug fixing and report writing\n",
    "\n",
    "##### 6.2 Relationship with the course \n"
   ]
  }
 ],
 "metadata": {
  "kernelspec": {
   "display_name": "aifvenv",
   "language": "python",
   "name": "python3"
  },
  "language_info": {
   "codemirror_mode": {
    "name": "ipython",
    "version": 3
   },
   "file_extension": ".py",
   "mimetype": "text/x-python",
   "name": "python",
   "nbconvert_exporter": "python",
   "pygments_lexer": "ipython3",
   "version": "3.11.0"
  }
 },
 "nbformat": 4,
 "nbformat_minor": 2
}
